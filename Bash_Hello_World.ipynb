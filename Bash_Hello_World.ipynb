{
 "cells": [
  {
   "cell_type": "markdown",
   "id": "3d85070d-e98b-4850-8292-f8cec0393a7e",
   "metadata": {},
   "source": [
    "Bash Script \"Hello World\" by Callie Barber"
   ]
  },
  {
   "cell_type": "code",
   "execution_count": 1,
   "id": "60fc52a9-c761-4357-b9f5-d685654cfd51",
   "metadata": {
    "tags": []
   },
   "outputs": [
    {
     "name": "stdout",
     "output_type": "stream",
     "text": [
      "Hello World\n"
     ]
    }
   ],
   "source": [
    "!echo \"Hello World\""
   ]
  }
 ],
 "metadata": {
  "kernelspec": {
   "display_name": "Python 3 (ipykernel)",
   "language": "python",
   "name": "python3"
  },
  "language_info": {
   "codemirror_mode": {
    "name": "ipython",
    "version": 3
   },
   "file_extension": ".py",
   "mimetype": "text/x-python",
   "name": "python",
   "nbconvert_exporter": "python",
   "pygments_lexer": "ipython3",
   "version": "3.11.4"
  }
 },
 "nbformat": 4,
 "nbformat_minor": 5
}
