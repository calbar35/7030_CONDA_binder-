{
 "cells": [
  {
   "cell_type": "markdown",
   "id": "085e0eea-c37c-4b3c-9ce7-2855e2058063",
   "metadata": {},
   "source": [
    "Python \"Hello World\" by Callie Barber"
   ]
  },
  {
   "cell_type": "code",
   "execution_count": 2,
   "id": "013e34e5-b7bb-4daa-81b9-b32e18f310e6",
   "metadata": {
    "tags": []
   },
   "outputs": [
    {
     "name": "stdout",
     "output_type": "stream",
     "text": [
      "Hello World\n"
     ]
    }
   ],
   "source": [
    "print(\"Hello World\")"
   ]
  }
 ],
 "metadata": {
  "kernelspec": {
   "display_name": "Python 3 (ipykernel)",
   "language": "python",
   "name": "python3"
  },
  "language_info": {
   "codemirror_mode": {
    "name": "ipython",
    "version": 3
   },
   "file_extension": ".py",
   "mimetype": "text/x-python",
   "name": "python",
   "nbconvert_exporter": "python",
   "pygments_lexer": "ipython3",
   "version": "3.11.4"
  }
 },
 "nbformat": 4,
 "nbformat_minor": 5
}
